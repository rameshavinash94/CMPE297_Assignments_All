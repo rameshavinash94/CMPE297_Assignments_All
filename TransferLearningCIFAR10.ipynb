{
  "nbformat": 4,
  "nbformat_minor": 0,
  "metadata": {
    "colab": {
      "provenance": []
    },
    "kernelspec": {
      "name": "python3",
      "display_name": "Python 3"
    },
    "language_info": {
      "name": "python"
    },
    "accelerator": "GPU"
  },
  "cells": [
    {
      "cell_type": "code",
      "execution_count": 1,
      "metadata": {
        "id": "3aHHDsXCUkDC"
      },
      "outputs": [],
      "source": [
        "# Keras, dataset, and VGG19 imports\n",
        "import keras\n",
        "from keras.datasets import cifar10\n",
        "from keras.applications import VGG19"
      ]
    },
    {
      "cell_type": "code",
      "source": [
        "# Loading VGG19 with imagenet weights\n",
        "from keras.layers import Input\n",
        "\n",
        "vgg19_model = VGG19(include_top = True, weights='imagenet')\n",
        "vgg19_model.summary()"
      ],
      "metadata": {
        "colab": {
          "base_uri": "https://localhost:8080/"
        },
        "id": "JcnK5hBeUoJz",
        "outputId": "e5c59a81-5bdc-491d-b4d6-e53faec3ac3b"
      },
      "execution_count": 2,
      "outputs": [
        {
          "output_type": "stream",
          "name": "stdout",
          "text": [
            "Downloading data from https://storage.googleapis.com/tensorflow/keras-applications/vgg19/vgg19_weights_tf_dim_ordering_tf_kernels.h5\n",
            "574710816/574710816 [==============================] - 5s 0us/step\n",
            "Model: \"vgg19\"\n",
            "_________________________________________________________________\n",
            " Layer (type)                Output Shape              Param #   \n",
            "=================================================================\n",
            " input_1 (InputLayer)        [(None, 224, 224, 3)]     0         \n",
            "                                                                 \n",
            " block1_conv1 (Conv2D)       (None, 224, 224, 64)      1792      \n",
            "                                                                 \n",
            " block1_conv2 (Conv2D)       (None, 224, 224, 64)      36928     \n",
            "                                                                 \n",
            " block1_pool (MaxPooling2D)  (None, 112, 112, 64)      0         \n",
            "                                                                 \n",
            " block2_conv1 (Conv2D)       (None, 112, 112, 128)     73856     \n",
            "                                                                 \n",
            " block2_conv2 (Conv2D)       (None, 112, 112, 128)     147584    \n",
            "                                                                 \n",
            " block2_pool (MaxPooling2D)  (None, 56, 56, 128)       0         \n",
            "                                                                 \n",
            " block3_conv1 (Conv2D)       (None, 56, 56, 256)       295168    \n",
            "                                                                 \n",
            " block3_conv2 (Conv2D)       (None, 56, 56, 256)       590080    \n",
            "                                                                 \n",
            " block3_conv3 (Conv2D)       (None, 56, 56, 256)       590080    \n",
            "                                                                 \n",
            " block3_conv4 (Conv2D)       (None, 56, 56, 256)       590080    \n",
            "                                                                 \n",
            " block3_pool (MaxPooling2D)  (None, 28, 28, 256)       0         \n",
            "                                                                 \n",
            " block4_conv1 (Conv2D)       (None, 28, 28, 512)       1180160   \n",
            "                                                                 \n",
            " block4_conv2 (Conv2D)       (None, 28, 28, 512)       2359808   \n",
            "                                                                 \n",
            " block4_conv3 (Conv2D)       (None, 28, 28, 512)       2359808   \n",
            "                                                                 \n",
            " block4_conv4 (Conv2D)       (None, 28, 28, 512)       2359808   \n",
            "                                                                 \n",
            " block4_pool (MaxPooling2D)  (None, 14, 14, 512)       0         \n",
            "                                                                 \n",
            " block5_conv1 (Conv2D)       (None, 14, 14, 512)       2359808   \n",
            "                                                                 \n",
            " block5_conv2 (Conv2D)       (None, 14, 14, 512)       2359808   \n",
            "                                                                 \n",
            " block5_conv3 (Conv2D)       (None, 14, 14, 512)       2359808   \n",
            "                                                                 \n",
            " block5_conv4 (Conv2D)       (None, 14, 14, 512)       2359808   \n",
            "                                                                 \n",
            " block5_pool (MaxPooling2D)  (None, 7, 7, 512)         0         \n",
            "                                                                 \n",
            " flatten (Flatten)           (None, 25088)             0         \n",
            "                                                                 \n",
            " fc1 (Dense)                 (None, 4096)              102764544 \n",
            "                                                                 \n",
            " fc2 (Dense)                 (None, 4096)              16781312  \n",
            "                                                                 \n",
            " predictions (Dense)         (None, 1000)              4097000   \n",
            "                                                                 \n",
            "=================================================================\n",
            "Total params: 143,667,240\n",
            "Trainable params: 143,667,240\n",
            "Non-trainable params: 0\n",
            "_________________________________________________________________\n"
          ]
        }
      ]
    },
    {
      "cell_type": "code",
      "source": [
        "from keras.models import Sequential\n",
        "from keras.layers import Dense, Flatten, Dropout\n",
        "\n",
        "# define new empty model\n",
        "model = Sequential()\n",
        "\n",
        "# add all layers except output from VGG19 to new model\n",
        "for layer in vgg19_model.layers[:-1]:\n",
        "  model.add(layer)\n",
        "  \n",
        "# freeze all weights\n",
        "for layer in model.layers:\n",
        "  layer.trainable = False\n",
        "  \n",
        "# add dropout layer and new output layer\n",
        "model.add(Dropout(0.5))\n",
        "model.add(Dense(10, activation='softmax'))\n",
        "model.summary()"
      ],
      "metadata": {
        "colab": {
          "base_uri": "https://localhost:8080/"
        },
        "id": "eLtqehWeUqBF",
        "outputId": "e13feb16-5815-4ec7-a242-c67d4408f6b2"
      },
      "execution_count": 3,
      "outputs": [
        {
          "output_type": "stream",
          "name": "stdout",
          "text": [
            "Model: \"sequential\"\n",
            "_________________________________________________________________\n",
            " Layer (type)                Output Shape              Param #   \n",
            "=================================================================\n",
            " block1_conv1 (Conv2D)       (None, 224, 224, 64)      1792      \n",
            "                                                                 \n",
            " block1_conv2 (Conv2D)       (None, 224, 224, 64)      36928     \n",
            "                                                                 \n",
            " block1_pool (MaxPooling2D)  (None, 112, 112, 64)      0         \n",
            "                                                                 \n",
            " block2_conv1 (Conv2D)       (None, 112, 112, 128)     73856     \n",
            "                                                                 \n",
            " block2_conv2 (Conv2D)       (None, 112, 112, 128)     147584    \n",
            "                                                                 \n",
            " block2_pool (MaxPooling2D)  (None, 56, 56, 128)       0         \n",
            "                                                                 \n",
            " block3_conv1 (Conv2D)       (None, 56, 56, 256)       295168    \n",
            "                                                                 \n",
            " block3_conv2 (Conv2D)       (None, 56, 56, 256)       590080    \n",
            "                                                                 \n",
            " block3_conv3 (Conv2D)       (None, 56, 56, 256)       590080    \n",
            "                                                                 \n",
            " block3_conv4 (Conv2D)       (None, 56, 56, 256)       590080    \n",
            "                                                                 \n",
            " block3_pool (MaxPooling2D)  (None, 28, 28, 256)       0         \n",
            "                                                                 \n",
            " block4_conv1 (Conv2D)       (None, 28, 28, 512)       1180160   \n",
            "                                                                 \n",
            " block4_conv2 (Conv2D)       (None, 28, 28, 512)       2359808   \n",
            "                                                                 \n",
            " block4_conv3 (Conv2D)       (None, 28, 28, 512)       2359808   \n",
            "                                                                 \n",
            " block4_conv4 (Conv2D)       (None, 28, 28, 512)       2359808   \n",
            "                                                                 \n",
            " block4_pool (MaxPooling2D)  (None, 14, 14, 512)       0         \n",
            "                                                                 \n",
            " block5_conv1 (Conv2D)       (None, 14, 14, 512)       2359808   \n",
            "                                                                 \n",
            " block5_conv2 (Conv2D)       (None, 14, 14, 512)       2359808   \n",
            "                                                                 \n",
            " block5_conv3 (Conv2D)       (None, 14, 14, 512)       2359808   \n",
            "                                                                 \n",
            " block5_conv4 (Conv2D)       (None, 14, 14, 512)       2359808   \n",
            "                                                                 \n",
            " block5_pool (MaxPooling2D)  (None, 7, 7, 512)         0         \n",
            "                                                                 \n",
            " flatten (Flatten)           (None, 25088)             0         \n",
            "                                                                 \n",
            " fc1 (Dense)                 (None, 4096)              102764544 \n",
            "                                                                 \n",
            " fc2 (Dense)                 (None, 4096)              16781312  \n",
            "                                                                 \n",
            " dropout (Dropout)           (None, 4096)              0         \n",
            "                                                                 \n",
            " dense (Dense)               (None, 10)                40970     \n",
            "                                                                 \n",
            "=================================================================\n",
            "Total params: 139,611,210\n",
            "Trainable params: 40,970\n",
            "Non-trainable params: 139,570,240\n",
            "_________________________________________________________________\n"
          ]
        }
      ]
    },
    {
      "cell_type": "code",
      "source": [
        "# load dataset\n",
        "(x_train, y_train) , (x_val, y_val) = cifar10.load_data()"
      ],
      "metadata": {
        "colab": {
          "base_uri": "https://localhost:8080/"
        },
        "id": "yvClraqOUuvG",
        "outputId": "0fadaa9f-e81f-4ad5-86f3-e95e2b6e4240"
      },
      "execution_count": 4,
      "outputs": [
        {
          "output_type": "stream",
          "name": "stdout",
          "text": [
            "Downloading data from https://www.cs.toronto.edu/~kriz/cifar-10-python.tar.gz\n",
            "170498071/170498071 [==============================] - 2s 0us/step\n"
          ]
        }
      ]
    },
    {
      "cell_type": "code",
      "source": [
        "import numpy as np\n",
        "import cv2"
      ],
      "metadata": {
        "id": "yUnapoRXUxZK"
      },
      "execution_count": 5,
      "outputs": []
    },
    {
      "cell_type": "code",
      "source": [
        "import matplotlib.pyplot as plt\n",
        "\n",
        "NUM_CLASSES = 10\n",
        "\n",
        "# Onehot encode labels\n",
        "\n",
        "y_train = keras.utils.to_categorical(y_train, NUM_CLASSES)\n",
        "y_val = keras.utils.to_categorical(y_val, NUM_CLASSES)"
      ],
      "metadata": {
        "id": "4SoD19y8UyyL"
      },
      "execution_count": 6,
      "outputs": []
    },
    {
      "cell_type": "code",
      "source": [
        "model.compile(optimizer=\"adam\", loss=\"categorical_crossentropy\", metrics=[\"categorical_accuracy\"])\n"
      ],
      "metadata": {
        "id": "5OciwxFpU0HJ"
      },
      "execution_count": 7,
      "outputs": []
    },
    {
      "cell_type": "code",
      "source": [
        "# returns batch_size random samples from either training set or validation set\n",
        "# resizes each image to (224, 244, 3), the native input size for VGG19\n",
        "def getBatch(batch_size, train_or_val='train'):\n",
        "  x_batch = []\n",
        "  y_batch = []\n",
        "  if train_or_val == 'train':\n",
        "    idx = np.random.randint(0, len(x_train), (batch_size))\n",
        "\n",
        "    for i in idx:\n",
        "      img = cv2.resize(x_train[i], (224, 224), interpolation=cv2.INTER_CUBIC)\n",
        "      x_batch.append(img)\n",
        "      y_batch.append(y_train[i])\n",
        "  elif train_or_val == 'val':\n",
        "    idx = np.random.randint(0, len(x_val), (batch_size))\n",
        "\n",
        "    for i in idx:\n",
        "      img = cv2.resize(x_val[i], (224, 224), interpolation=cv2.INTER_CUBIC)\n",
        "      x_batch.append(img)\n",
        "      y_batch.append(y_val[i]) \n",
        "  else:\n",
        "    print(\"error, please specify train or val\")\n",
        "   \n",
        "  x_batch = np.array(x_batch)\n",
        "  y_batch = np.array(y_batch)\n",
        "  return x_batch, y_batch"
      ],
      "metadata": {
        "id": "BIGBOFGBU1lg"
      },
      "execution_count": 8,
      "outputs": []
    },
    {
      "cell_type": "code",
      "source": [
        "EPOCHS = 5\n",
        "BATCH_SIZE = 250\n",
        "VAL_SIZE = 500\n",
        "STEPS = 50\n",
        "\n",
        "\n",
        "for e in range(EPOCHS):\n",
        "  train_loss = 0\n",
        "  train_acc = 0\n",
        "  \n",
        "  for s in range(STEPS):\n",
        "    x_batch, y_batch = getBatch(BATCH_SIZE, \"train\")\n",
        "    out = model.train_on_batch(x_batch, y_batch)\n",
        "    train_loss += out[0]\n",
        "    train_acc += out[1]\n",
        "  \n",
        "  print(f\"Epoch: {e}\\nTraining Loss = {train_loss / STEPS}\\tTraining Acc = {train_acc / STEPS}\")\n",
        "  \n",
        "  x_v, y_v = getBatch(VAL_SIZE, \"val\")\n",
        "  eval = model.evaluate(x_v, y_v)\n",
        "  print(f\"Validation loss: {eval[0]}\\tValidation Acc: {eval[1]}\\n\")"
      ],
      "metadata": {
        "colab": {
          "base_uri": "https://localhost:8080/"
        },
        "id": "95qLdZ63U3F1",
        "outputId": "8cfbe480-bd59-49cf-d4fe-96f701a3df0d"
      },
      "execution_count": 9,
      "outputs": [
        {
          "output_type": "stream",
          "name": "stdout",
          "text": [
            "Epoch: 0\n",
            "Training Loss = 1.5788413393497467\tTraining Acc = 0.5603199988603592\n",
            "16/16 [==============================] - 8s 324ms/step - loss: 0.7568 - categorical_accuracy: 0.7640\n",
            "Validation loss: 0.7567803859710693\tValidation Acc: 0.7639999985694885\n",
            "\n",
            "Epoch: 1\n",
            "Training Loss = 1.0280947816371917\tTraining Acc = 0.6899200022220612\n",
            "16/16 [==============================] - 3s 192ms/step - loss: 0.6801 - categorical_accuracy: 0.7920\n",
            "Validation loss: 0.6801114678382874\tValidation Acc: 0.7919999957084656\n",
            "\n",
            "Epoch: 2\n",
            "Training Loss = 0.8861161100864411\tTraining Acc = 0.7196800005435944\n",
            "16/16 [==============================] - 3s 192ms/step - loss: 0.8820 - categorical_accuracy: 0.7320\n",
            "Validation loss: 0.8820053339004517\tValidation Acc: 0.7319999933242798\n",
            "\n",
            "Epoch: 3\n",
            "Training Loss = 0.8093864750862122\tTraining Acc = 0.7447200012207031\n",
            "16/16 [==============================] - 3s 192ms/step - loss: 0.6759 - categorical_accuracy: 0.7840\n",
            "Validation loss: 0.6758639812469482\tValidation Acc: 0.7839999794960022\n",
            "\n",
            "Epoch: 4\n",
            "Training Loss = 0.7718796050548553\tTraining Acc = 0.749520001411438\n",
            "16/16 [==============================] - 3s 192ms/step - loss: 0.6547 - categorical_accuracy: 0.7800\n",
            "Validation loss: 0.6546945571899414\tValidation Acc: 0.7799999713897705\n",
            "\n"
          ]
        }
      ]
    }
  ]
}